{
 "cells": [
  {
   "cell_type": "markdown",
   "id": "61506512",
   "metadata": {},
   "source": [
    "### What needs to be collected?\n",
    "\n",
    "1. Meet Name\n",
    "2. Event Number\n",
    "3. Event Name (including age and gender)\n",
    "Lane number\n",
    "Need to ask on set up how many heats there are for each event\n",
    "\n",
    "4. The product is going to be a heat and the event name"
   ]
  },
  {
   "cell_type": "code",
   "execution_count": 14,
   "id": "76e2101d",
   "metadata": {},
   "outputs": [
    {
     "name": "stdout",
     "output_type": "stream",
     "text": [
      "The following events are available for booking: \n",
      "1. 11-12 Girls 50 Meter Freestyle, Heat 1 \n",
      "2. 11-12 Girls 50 Meter Freestyle, Heat 2 \n",
      "3. 11-12 Girls 50 Meter Freestyle, Heat 3 \n",
      "4. 11-12 Girls 100 Meter Freestyle, Heat 1 \n",
      "5. 11-12 Girls 100 Meter Freestyle, Heat 2 \n",
      "6. 11-12 Girls 100 Meter Freestyle, Heat 3 \n",
      "7. 11-12 Girls 100 Meter Freestyle, Heat 4 \n",
      "\n",
      "Enter the number to the left to select an event to book.1\n",
      "\n",
      "You chose 11-12 Girls 50 Meter Freestyle, Heat 1.\n",
      "\n",
      "Is this correct? Y or N.\n",
      "Y\n"
     ]
    }
   ],
   "source": [
    "# we should be able to read in events available from a spreadsheet or \n",
    "# write a csv based on use input to populate the list\n",
    "\n",
    "events_available = ['11-12 Girls 50 Meter Freestyle, Heat 1',\n",
    "                    '11-12 Girls 50 Meter Freestyle, Heat 2',\n",
    "                    '11-12 Girls 50 Meter Freestyle, Heat 3',\n",
    "                    '11-12 Girls 100 Meter Freestyle, Heat 1',\n",
    "                    '11-12 Girls 100 Meter Freestyle, Heat 2',\n",
    "                    '11-12 Girls 100 Meter Freestyle, Heat 3',\n",
    "                    '11-12 Girls 100 Meter Freestyle, Heat 4']\n",
    "\n",
    "events_booked = []\n",
    "\n",
    "def book_event():\n",
    "    print(\"The following events are available for booking: \")\n",
    "    \n",
    "    i = 1\n",
    "    \n",
    "    for event in events_available:\n",
    "        print(f'{i}. {event} ')\n",
    "        i+=1\n",
    "        \n",
    "    print()\n",
    "    \n",
    "    selected_event = int(input(\"Enter the number to the left to select an event to book.\"))\n",
    "    \n",
    "    print(f'\\nYou chose {events_available[selected_event-1]}.\\n')\n",
    "    \n",
    "    confirm = input('Is this correct? Y or N.\\n').lower()\n",
    "    \n",
    "    \n",
    "    # if Y, remove from events_available; add to events booked\n",
    "    \n",
    "    if confirm == 'y' or 'yes': # will have to add in more information to handle invalid user input\n",
    "        booked_event = events_available[selected_event-1]\n",
    "        events_available.remove(booked_event)\n",
    "        events_booked.append(booked_event)\n",
    "\n",
    "    else:\n",
    "        print(\"Start over with your registration, please!\") # handle for no and handle for invalid input\n",
    "    # if N, restart registration and ask again; we will put the loop in later\n",
    "    \n",
    "\n",
    "book_event()\n",
    "\n",
    "print(\"Events available:\\n\")\n",
    "\n",
    "for event in events_available:\n",
    "    print(event)\n",
    "    \n",
    "print(\"\\n\""
   ]
  },
  {
   "cell_type": "code",
   "execution_count": null,
   "id": "f57e9395",
   "metadata": {},
   "outputs": [],
   "source": []
  },
  {
   "cell_type": "code",
   "execution_count": null,
   "id": "9a825341",
   "metadata": {},
   "outputs": [],
   "source": []
  }
 ],
 "metadata": {
  "kernelspec": {
   "display_name": "Python 3 (ipykernel)",
   "language": "python",
   "name": "python3"
  },
  "language_info": {
   "codemirror_mode": {
    "name": "ipython",
    "version": 3
   },
   "file_extension": ".py",
   "mimetype": "text/x-python",
   "name": "python",
   "nbconvert_exporter": "python",
   "pygments_lexer": "ipython3",
   "version": "3.9.7"
  }
 },
 "nbformat": 4,
 "nbformat_minor": 5
}
